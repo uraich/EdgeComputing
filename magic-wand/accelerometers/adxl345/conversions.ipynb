{
 "cells": [
  {
   "cell_type": "markdown",
   "id": "0819f651",
   "metadata": {},
   "source": [
    "# Try conversions from int to byte and back\n",
    "First positive integers\n"
   ]
  },
  {
   "cell_type": "code",
   "execution_count": 3,
   "id": "fbe0e6d3",
   "metadata": {},
   "outputs": [
    {
     "data": {
      "text/plain": [
       "1"
      ]
     },
     "execution_count": 3,
     "metadata": {},
     "output_type": "execute_result"
    }
   ],
   "source": [
    "a = 1\n",
    "a"
   ]
  },
  {
   "cell_type": "markdown",
   "id": "808d6672",
   "metadata": {},
   "source": [
    "Convert to byte"
   ]
  },
  {
   "cell_type": "code",
   "execution_count": 4,
   "id": "0037d729",
   "metadata": {},
   "outputs": [
    {
     "data": {
      "text/plain": [
       "bytearray(b'\\x01')"
      ]
     },
     "execution_count": 4,
     "metadata": {},
     "output_type": "execute_result"
    }
   ],
   "source": [
    "b = bytearray(1)\n",
    "b[0] = a\n",
    "b"
   ]
  },
  {
   "cell_type": "markdown",
   "id": "9b819e02",
   "metadata": {},
   "source": [
    "Now negative numbers"
   ]
  },
  {
   "cell_type": "code",
   "execution_count": 6,
   "id": "1f628e8c",
   "metadata": {},
   "outputs": [
    {
     "data": {
      "text/plain": [
       "bytearray(b'\\xff')"
      ]
     },
     "execution_count": 6,
     "metadata": {},
     "output_type": "execute_result"
    }
   ],
   "source": [
    "a = -1\n",
    "a &= 0xff\n",
    "b[0] = a\n",
    "b"
   ]
  },
  {
   "cell_type": "markdown",
   "id": "edcbc682",
   "metadata": {},
   "source": [
    "Now convert back to int"
   ]
  },
  {
   "cell_type": "code",
   "execution_count": 13,
   "id": "7f9d3abd",
   "metadata": {},
   "outputs": [
    {
     "data": {
      "text/plain": [
       "bytearray(b'\\x01')"
      ]
     },
     "execution_count": 13,
     "metadata": {},
     "output_type": "execute_result"
    }
   ],
   "source": [
    "b[0] = 1\n",
    "b"
   ]
  },
  {
   "cell_type": "code",
   "execution_count": 15,
   "id": "589d7b91",
   "metadata": {},
   "outputs": [
    {
     "data": {
      "text/plain": [
       "(1, int)"
      ]
     },
     "execution_count": 15,
     "metadata": {},
     "output_type": "execute_result"
    }
   ],
   "source": [
    "if not (b[0] & 0x80):\n",
    "    a = b[0]\n",
    "a,type(a)"
   ]
  },
  {
   "cell_type": "code",
   "execution_count": 22,
   "id": "afa437ac",
   "metadata": {},
   "outputs": [
    {
     "data": {
      "text/plain": [
       "-1"
      ]
     },
     "execution_count": 22,
     "metadata": {},
     "output_type": "execute_result"
    }
   ],
   "source": [
    "b[0] = 0xff\n",
    "if b[0] & 0x80 :\n",
    "    a = b[0] \n",
    "    a = (~ a + 1) & 0xff\n",
    "-a"
   ]
  },
  {
   "cell_type": "code",
   "execution_count": null,
   "id": "ecd85726",
   "metadata": {},
   "outputs": [],
   "source": []
  }
 ],
 "metadata": {
  "kernelspec": {
   "display_name": "Python 3 (ipykernel)",
   "language": "python",
   "name": "python3"
  },
  "language_info": {
   "codemirror_mode": {
    "name": "ipython",
    "version": 3
   },
   "file_extension": ".py",
   "mimetype": "text/x-python",
   "name": "python",
   "nbconvert_exporter": "python",
   "pygments_lexer": "ipython3",
   "version": "3.8.10"
  }
 },
 "nbformat": 4,
 "nbformat_minor": 5
}
